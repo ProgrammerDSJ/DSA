{
 "cells": [
  {
   "cell_type": "markdown",
   "id": "2ebfc8f8",
   "metadata": {},
   "source": [
    "# Problem: Nested Lists"
   ]
  },
  {
   "cell_type": "code",
   "execution_count": null,
   "id": "12f0a61f",
   "metadata": {},
   "outputs": [
    {
     "name": "stdout",
     "output_type": "stream",
     "text": [
      "ADI  100 \n",
      "DEV 520 \n",
      "BOB 520 \n",
      "---------------------------------------\n",
      "Sorted list:  [['DEV', 520], ['BOB', 520], ['ADI ', 100]]\n",
      "---------------------------------------\n",
      "Alphabetical sorted list:  [['ADI ', 100], ['BOB', 520], ['DEV', 520]]\n"
     ]
    }
   ],
   "source": [
    "def score_list_nested(name, score):\n",
    "    score_list.append([name, score])\n",
    "    \n",
    "    print(name, score, end=' ')\n",
    "    print()\n",
    "    \n",
    "    return score_list\n",
    "\n",
    "def alphabetical_sort_list(score_list):\n",
    "    sorted_scores = []\n",
    "    for i in range(len(score_list)):\n",
    "        for j in range(i + 1, len(score_list)):\n",
    "            if score_list[i][0] > score_list[j][0]:\n",
    "                score_list[i], score_list[j] = score_list[j], score_list[i]\n",
    "    return score_list\n",
    "\n",
    "def sort_scores(score_list):\n",
    "    sorted_scores = []\n",
    "    for i in range(len(score_list)):\n",
    "        for j in range(i + 1, len(score_list)):\n",
    "            if score_list[i][1] < score_list[j][1]:\n",
    "                score_list[i], score_list[j] = score_list[j], score_list[i]\n",
    "    return score_list\n",
    "\n",
    "\n",
    "\n",
    "def second_last_score(score_list):\n",
    "    sort_scores(score_list)\n",
    "    for i in range(len(score_list)):\n",
    "        for j in range(i + 1, len(score_list)):\n",
    "            if score_list[i][1] == score_list[j][1]:\n",
    "                alphabetical_sort_list(score_list)\n",
    "                \n",
    "\n",
    "n = int(input(\"Enter number of students: \"))\n",
    "\n",
    "score_list = []\n",
    "\n",
    "for i in range(n):\n",
    "    name = input(\"Enter name: \")\n",
    "    score = int(input(\"Enter score: \"))\n",
    "    score_list_nested(name, score)    \n",
    "    \n",
    "print(\"---------------------------------------\")\n",
    "    \n",
    "print(\"Sorted list: \", second_last_score(score_list))"
   ]
  },
  {
   "cell_type": "code",
   "execution_count": null,
   "id": "777d6621",
   "metadata": {},
   "outputs": [],
   "source": []
  }
 ],
 "metadata": {
  "kernelspec": {
   "display_name": "Python 3",
   "language": "python",
   "name": "python3"
  },
  "language_info": {
   "codemirror_mode": {
    "name": "ipython",
    "version": 3
   },
   "file_extension": ".py",
   "mimetype": "text/x-python",
   "name": "python",
   "nbconvert_exporter": "python",
   "pygments_lexer": "ipython3",
   "version": "3.13.2"
  }
 },
 "nbformat": 4,
 "nbformat_minor": 5
}
